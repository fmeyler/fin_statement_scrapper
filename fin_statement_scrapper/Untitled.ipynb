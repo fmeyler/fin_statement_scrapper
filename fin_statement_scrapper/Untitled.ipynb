{
 "cells": [
  {
   "cell_type": "markdown",
   "metadata": {},
   "source": [
    "## Yes this is cool\n",
    "\n",
    "The whole point of this is to try it when i get to work tomorrow. So far I am really liking this"
   ]
  },
  {
   "cell_type": "code",
   "execution_count": 6,
   "metadata": {},
   "outputs": [],
   "source": [
    "import pandas as pd\n",
    "import numpy as np\n",
    "\n",
    "df = pd.read_excel('data/amazon_data.xls')"
   ]
  },
  {
   "cell_type": "markdown",
   "metadata": {},
   "source": [
    "Let's go ahead and explore this data set"
   ]
  },
  {
   "cell_type": "code",
   "execution_count": 2,
   "metadata": {},
   "outputs": [
    {
     "data": {
      "text/html": [
       "<div>\n",
       "<style scoped>\n",
       "    .dataframe tbody tr th:only-of-type {\n",
       "        vertical-align: middle;\n",
       "    }\n",
       "\n",
       "    .dataframe tbody tr th {\n",
       "        vertical-align: top;\n",
       "    }\n",
       "\n",
       "    .dataframe thead th {\n",
       "        text-align: right;\n",
       "    }\n",
       "</style>\n",
       "<table border=\"1\" class=\"dataframe\">\n",
       "  <thead>\n",
       "    <tr style=\"text-align: right;\">\n",
       "      <th></th>\n",
       "      <th>2018</th>\n",
       "      <th>2017</th>\n",
       "      <th>2016</th>\n",
       "      <th>2015</th>\n",
       "      <th>2014</th>\n",
       "      <th>2013</th>\n",
       "      <th>2012</th>\n",
       "      <th>2011</th>\n",
       "      <th>2010</th>\n",
       "      <th>2009</th>\n",
       "      <th>2008</th>\n",
       "      <th>2007</th>\n",
       "      <th>2006</th>\n",
       "      <th>2005</th>\n",
       "    </tr>\n",
       "  </thead>\n",
       "  <tbody>\n",
       "    <tr>\n",
       "      <th>0</th>\n",
       "      <td>1.0981</td>\n",
       "      <td>1.0400</td>\n",
       "      <td>1.0448</td>\n",
       "      <td>1.0536</td>\n",
       "      <td>1.1153</td>\n",
       "      <td>1.0716</td>\n",
       "      <td>1.1207</td>\n",
       "      <td>1.1741</td>\n",
       "      <td>1.3254</td>\n",
       "      <td>1.3304</td>\n",
       "      <td>1.2973</td>\n",
       "      <td>1.3904</td>\n",
       "      <td>1.3321</td>\n",
       "      <td>1.5424</td>\n",
       "    </tr>\n",
       "    <tr>\n",
       "      <th>1</th>\n",
       "      <td>0.3504</td>\n",
       "      <td>0.4717</td>\n",
       "      <td>0.2852</td>\n",
       "      <td>0.3807</td>\n",
       "      <td>0.4349</td>\n",
       "      <td>0.2467</td>\n",
       "      <td>0.2735</td>\n",
       "      <td>0.0318</td>\n",
       "      <td>0.1853</td>\n",
       "      <td>-</td>\n",
       "      <td>0.1327</td>\n",
       "      <td>0.5171</td>\n",
       "      <td>0.7431</td>\n",
       "      <td>0.8575</td>\n",
       "    </tr>\n",
       "    <tr>\n",
       "      <th>2</th>\n",
       "      <td>0.5395</td>\n",
       "      <td>0.8930</td>\n",
       "      <td>0.3990</td>\n",
       "      <td>0.6147</td>\n",
       "      <td>0.7695</td>\n",
       "      <td>0.3274</td>\n",
       "      <td>0.3765</td>\n",
       "      <td>0.0329</td>\n",
       "      <td>0.2274</td>\n",
       "      <td>-</td>\n",
       "      <td>0.1531</td>\n",
       "      <td>1.0852</td>\n",
       "      <td>2.8933</td>\n",
       "      <td>6.0163</td>\n",
       "    </tr>\n",
       "    <tr>\n",
       "      <th>3</th>\n",
       "      <td>40.2474</td>\n",
       "      <td>37.0684</td>\n",
       "      <td>35.0931</td>\n",
       "      <td>33.0402</td>\n",
       "      <td>29.4826</td>\n",
       "      <td>27.2269</td>\n",
       "      <td>24.7524</td>\n",
       "      <td>22.4411</td>\n",
       "      <td>22.3453</td>\n",
       "      <td>22.5672</td>\n",
       "      <td>22.2790</td>\n",
       "      <td>22.6020</td>\n",
       "      <td>22.9297</td>\n",
       "      <td>24.0165</td>\n",
       "    </tr>\n",
       "    <tr>\n",
       "      <th>4</th>\n",
       "      <td>5.3335</td>\n",
       "      <td>2.3085</td>\n",
       "      <td>3.0782</td>\n",
       "      <td>2.0868</td>\n",
       "      <td>0.2000</td>\n",
       "      <td>1.0006</td>\n",
       "      <td>1.1065</td>\n",
       "      <td>1.7930</td>\n",
       "      <td>4.1106</td>\n",
       "      <td>4.6065</td>\n",
       "      <td>4.3932</td>\n",
       "      <td>4.4152</td>\n",
       "      <td>3.6318</td>\n",
       "      <td>5.0883</td>\n",
       "    </tr>\n",
       "  </tbody>\n",
       "</table>\n",
       "</div>"
      ],
      "text/plain": [
       "      2018     2017     2016     2015     2014     2013     2012     2011  \\\n",
       "0   1.0981   1.0400   1.0448   1.0536   1.1153   1.0716   1.1207   1.1741   \n",
       "1   0.3504   0.4717   0.2852   0.3807   0.4349   0.2467   0.2735   0.0318   \n",
       "2   0.5395   0.8930   0.3990   0.6147   0.7695   0.3274   0.3765   0.0329   \n",
       "3  40.2474  37.0684  35.0931  33.0402  29.4826  27.2269  24.7524  22.4411   \n",
       "4   5.3335   2.3085   3.0782   2.0868   0.2000   1.0006   1.1065   1.7930   \n",
       "\n",
       "      2010     2009     2008     2007     2006     2005  \n",
       "0   1.3254   1.3304   1.2973   1.3904   1.3321   1.5424  \n",
       "1   0.1853        -   0.1327   0.5171   0.7431   0.8575  \n",
       "2   0.2274        -   0.1531   1.0852   2.8933   6.0163  \n",
       "3  22.3453  22.5672  22.2790  22.6020  22.9297  24.0165  \n",
       "4   4.1106   4.6065   4.3932   4.4152   3.6318   5.0883  "
      ]
     },
     "execution_count": 2,
     "metadata": {},
     "output_type": "execute_result"
    }
   ],
   "source": [
    "df.head()"
   ]
  },
  {
   "cell_type": "code",
   "execution_count": null,
   "metadata": {},
   "outputs": [],
   "source": [
    "import pandas_profiling\n",
    "\n",
    "pandas_profiling.ProfileReport(df)"
   ]
  },
  {
   "cell_type": "code",
   "execution_count": 4,
   "metadata": {},
   "outputs": [
    {
     "data": {
      "text/plain": [
       "Int64Index([2018, 2017, 2016, 2015, 2014, 2013, 2012, 2011, 2010, 2009, 2008,\n",
       "            2007, 2006, 2005],\n",
       "           dtype='int64')"
      ]
     },
     "execution_count": 4,
     "metadata": {},
     "output_type": "execute_result"
    }
   ],
   "source": [
    "df.columns"
   ]
  },
  {
   "cell_type": "code",
   "execution_count": 10,
   "metadata": {},
   "outputs": [],
   "source": [
    "df = df.add_prefix('year_')"
   ]
  },
  {
   "cell_type": "code",
   "execution_count": 11,
   "metadata": {},
   "outputs": [
    {
     "data": {
      "text/plain": [
       "Index(['year_2018', 'year_2017', 'year_2016', 'year_2015', 'year_2014',\n",
       "       'year_2013', 'year_2012', 'year_2011', 'year_2010', 'year_2009',\n",
       "       'year_2008', 'year_2007', 'year_2006', 'year_2005'],\n",
       "      dtype='object')"
      ]
     },
     "execution_count": 11,
     "metadata": {},
     "output_type": "execute_result"
    }
   ],
   "source": [
    "df.columns"
   ]
  },
  {
   "cell_type": "code",
   "execution_count": null,
   "metadata": {},
   "outputs": [],
   "source": []
  }
 ],
 "metadata": {
  "kernelspec": {
   "display_name": "Python 3",
   "language": "python",
   "name": "python3"
  },
  "language_info": {
   "codemirror_mode": {
    "name": "ipython",
    "version": 3
   },
   "file_extension": ".py",
   "mimetype": "text/x-python",
   "name": "python",
   "nbconvert_exporter": "python",
   "pygments_lexer": "ipython3",
   "version": "3.7.3"
  }
 },
 "nbformat": 4,
 "nbformat_minor": 4
}
